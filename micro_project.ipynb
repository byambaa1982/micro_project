{
  "nbformat": 4,
  "nbformat_minor": 0,
  "metadata": {
    "colab": {
      "name": "micro_project.ipynb",
      "provenance": [],
      "collapsed_sections": [
        "uug6jFtOoaSG"
      ],
      "include_colab_link": true
    },
    "kernelspec": {
      "name": "python3",
      "display_name": "Python 3"
    },
    "language_info": {
      "name": "python"
    }
  },
  "cells": [
    {
      "cell_type": "markdown",
      "metadata": {
        "id": "view-in-github",
        "colab_type": "text"
      },
      "source": [
        "<a href=\"https://colab.research.google.com/github/byambaa1982/micro_project/blob/main/micro_project.ipynb\" target=\"_parent\"><img src=\"https://colab.research.google.com/assets/colab-badge.svg\" alt=\"Open In Colab\"/></a>"
      ]
    },
    {
      "cell_type": "markdown",
      "metadata": {
        "id": "UMeh43JGMMvh"
      },
      "source": [
        "# Connect to Google Drive from Google Colab using Google Secrect Key"
      ]
    },
    {
      "cell_type": "code",
      "metadata": {
        "colab": {
          "base_uri": "https://localhost:8080/"
        },
        "id": "QgENEF8RMbkq",
        "outputId": "ea9c49b1-9a17-4b03-d3b9-7bcf68108631"
      },
      "source": [
        "from google.colab import drive\n",
        "drive.mount('/content/gdrive', force_remount=True)"
      ],
      "execution_count": 1,
      "outputs": [
        {
          "output_type": "stream",
          "name": "stdout",
          "text": [
            "Mounted at /content/gdrive\n"
          ]
        }
      ]
    },
    {
      "cell_type": "code",
      "metadata": {
        "id": "ULBWlAo0yFaQ"
      },
      "source": [
        "from google.colab import auth\n",
        "auth.authenticate_user()\n",
        "project_id = 'twittersheet-275317'"
      ],
      "execution_count": 22,
      "outputs": []
    },
    {
      "cell_type": "code",
      "metadata": {
        "colab": {
          "base_uri": "https://localhost:8080/"
        },
        "id": "zAFCBQbgQLFl",
        "outputId": "9d4c43a7-3d61-427b-dadd-c024c9aea0a1"
      },
      "source": [
        "os.chdir(\"/content/gdrive/My Drive/upwork/david\") \n",
        "!ls"
      ],
      "execution_count": 149,
      "outputs": [
        {
          "output_type": "stream",
          "name": "stdout",
          "text": [
            " david_test_sheet.gsheet  'Lab data definitions samples.gsheet'\n"
          ]
        }
      ]
    },
    {
      "cell_type": "code",
      "metadata": {
        "id": "96BzqGqNduF3"
      },
      "source": [
        "import pandas as pd\n",
        "from datetime import datetime\n",
        "import re\n",
        "import os\n",
        "import glob\n",
        "from collections import Counter\n",
        "import json\n",
        "import numpy as np\n",
        "from sqlalchemy import create_engine\n",
        "import psycopg2 \n",
        "import io\n",
        "from io import StringIO\n",
        "from io import BytesIO\n",
        "import requests\n",
        "import pandas_gbq\n",
        "from google.cloud import storage\n",
        "\n",
        "import gspread\n",
        "from oauth2client.client import GoogleCredentials\n",
        "from oauth2client.service_account import ServiceAccountCredentials "
      ],
      "execution_count": 31,
      "outputs": []
    },
    {
      "cell_type": "code",
      "metadata": {
        "colab": {
          "base_uri": "https://localhost:8080/",
          "height": 188
        },
        "id": "OZio1eOPbhqr",
        "outputId": "80d004e7-97d4-407c-8c80-a13053e60af2"
      },
      "source": [
        "!pip install psycopg2-binary"
      ],
      "execution_count": 3,
      "outputs": [
        {
          "output_type": "stream",
          "name": "stdout",
          "text": [
            "Collecting psycopg2-binary\n",
            "  Downloading psycopg2_binary-2.9.2-cp37-cp37m-manylinux_2_17_x86_64.manylinux2014_x86_64.whl (3.0 MB)\n",
            "\u001b[K     |████████████████████████████████| 3.0 MB 4.0 MB/s \n",
            "\u001b[?25hInstalling collected packages: psycopg2-binary\n",
            "Successfully installed psycopg2-binary-2.9.2\n"
          ]
        },
        {
          "output_type": "display_data",
          "data": {
            "application/vnd.colab-display-data+json": {
              "pip_warning": {
                "packages": [
                  "psycopg2"
                ]
              }
            }
          },
          "metadata": {}
        }
      ]
    },
    {
      "cell_type": "code",
      "metadata": {
        "id": "j1bmxdUObsRk"
      },
      "source": [
        "import psycopg2 as pg\n",
        "import pandas.io.sql as psql"
      ],
      "execution_count": 4,
      "outputs": []
    },
    {
      "cell_type": "markdown",
      "metadata": {
        "id": "0pR7S4xGEACp"
      },
      "source": [
        "# Install Postgres and create database"
      ]
    },
    {
      "cell_type": "code",
      "metadata": {
        "colab": {
          "base_uri": "https://localhost:8080/"
        },
        "id": "sL-Tl33GkTAd",
        "outputId": "b60b3c40-f9c4-4273-a42a-577256eb817b"
      },
      "source": [
        "# Install postgresql server\n",
        "!sudo apt-get -y -qq update\n",
        "!sudo apt-get -y -qq install postgresql\n",
        "!sudo service postgresql start\n",
        "\n",
        "# Setup a password `postgres` for username `postgres`\n",
        "!sudo -u postgres psql -U postgres -c \"ALTER USER postgres PASSWORD 'postgres';\""
      ],
      "execution_count": 9,
      "outputs": [
        {
          "output_type": "stream",
          "name": "stdout",
          "text": [
            "debconf: unable to initialize frontend: Dialog\n",
            "debconf: (No usable dialog-like program is installed, so the dialog based frontend cannot be used. at /usr/share/perl5/Debconf/FrontEnd/Dialog.pm line 76, <> line 10.)\n",
            "debconf: falling back to frontend: Readline\n",
            "debconf: unable to initialize frontend: Readline\n",
            "debconf: (This frontend requires a controlling tty.)\n",
            "debconf: falling back to frontend: Teletype\n",
            "dpkg-preconfigure: unable to re-open stdin: \n",
            "Selecting previously unselected package cron.\n",
            "(Reading database ... 155222 files and directories currently installed.)\n",
            "Preparing to unpack .../0-cron_3.0pl1-128.1ubuntu1_amd64.deb ...\n",
            "Unpacking cron (3.0pl1-128.1ubuntu1) ...\n",
            "Selecting previously unselected package logrotate.\n",
            "Preparing to unpack .../1-logrotate_3.11.0-0.1ubuntu1_amd64.deb ...\n",
            "Unpacking logrotate (3.11.0-0.1ubuntu1) ...\n",
            "Selecting previously unselected package netbase.\n",
            "Preparing to unpack .../2-netbase_5.4_all.deb ...\n",
            "Unpacking netbase (5.4) ...\n",
            "Selecting previously unselected package postgresql-client-common.\n",
            "Preparing to unpack .../3-postgresql-client-common_190ubuntu0.1_all.deb ...\n",
            "Unpacking postgresql-client-common (190ubuntu0.1) ...\n",
            "Selecting previously unselected package postgresql-client-10.\n",
            "Preparing to unpack .../4-postgresql-client-10_10.19-0ubuntu0.18.04.1_amd64.deb ...\n",
            "Unpacking postgresql-client-10 (10.19-0ubuntu0.18.04.1) ...\n",
            "Selecting previously unselected package ssl-cert.\n",
            "Preparing to unpack .../5-ssl-cert_1.0.39_all.deb ...\n",
            "Unpacking ssl-cert (1.0.39) ...\n",
            "Selecting previously unselected package postgresql-common.\n",
            "Preparing to unpack .../6-postgresql-common_190ubuntu0.1_all.deb ...\n",
            "Adding 'diversion of /usr/bin/pg_config to /usr/bin/pg_config.libpq-dev by postgresql-common'\n",
            "Unpacking postgresql-common (190ubuntu0.1) ...\n",
            "Selecting previously unselected package postgresql-10.\n",
            "Preparing to unpack .../7-postgresql-10_10.19-0ubuntu0.18.04.1_amd64.deb ...\n",
            "Unpacking postgresql-10 (10.19-0ubuntu0.18.04.1) ...\n",
            "Selecting previously unselected package postgresql.\n",
            "Preparing to unpack .../8-postgresql_10+190ubuntu0.1_all.deb ...\n",
            "Unpacking postgresql (10+190ubuntu0.1) ...\n",
            "Selecting previously unselected package sysstat.\n",
            "Preparing to unpack .../9-sysstat_11.6.1-1ubuntu0.1_amd64.deb ...\n",
            "Unpacking sysstat (11.6.1-1ubuntu0.1) ...\n",
            "Setting up sysstat (11.6.1-1ubuntu0.1) ...\n",
            "debconf: unable to initialize frontend: Dialog\n",
            "debconf: (No usable dialog-like program is installed, so the dialog based frontend cannot be used. at /usr/share/perl5/Debconf/FrontEnd/Dialog.pm line 76.)\n",
            "debconf: falling back to frontend: Readline\n",
            "\n",
            "Creating config file /etc/default/sysstat with new version\n",
            "update-alternatives: using /usr/bin/sar.sysstat to provide /usr/bin/sar (sar) in auto mode\n",
            "Created symlink /etc/systemd/system/multi-user.target.wants/sysstat.service → /lib/systemd/system/sysstat.service.\n",
            "Setting up ssl-cert (1.0.39) ...\n",
            "debconf: unable to initialize frontend: Dialog\n",
            "debconf: (No usable dialog-like program is installed, so the dialog based frontend cannot be used. at /usr/share/perl5/Debconf/FrontEnd/Dialog.pm line 76.)\n",
            "debconf: falling back to frontend: Readline\n",
            "Setting up cron (3.0pl1-128.1ubuntu1) ...\n",
            "Adding group `crontab' (GID 110) ...\n",
            "Done.\n",
            "Created symlink /etc/systemd/system/multi-user.target.wants/cron.service → /lib/systemd/system/cron.service.\n",
            "update-rc.d: warning: start and stop actions are no longer supported; falling back to defaults\n",
            "invoke-rc.d: could not determine current runlevel\n",
            "invoke-rc.d: policy-rc.d denied execution of start.\n",
            "Setting up logrotate (3.11.0-0.1ubuntu1) ...\n",
            "Setting up netbase (5.4) ...\n",
            "Setting up postgresql-client-common (190ubuntu0.1) ...\n",
            "Setting up postgresql-common (190ubuntu0.1) ...\n",
            "debconf: unable to initialize frontend: Dialog\n",
            "debconf: (No usable dialog-like program is installed, so the dialog based frontend cannot be used. at /usr/share/perl5/Debconf/FrontEnd/Dialog.pm line 76.)\n",
            "debconf: falling back to frontend: Readline\n",
            "Adding user postgres to group ssl-cert\n",
            "\n",
            "Creating config file /etc/postgresql-common/createcluster.conf with new version\n",
            "Building PostgreSQL dictionaries from installed myspell/hunspell packages...\n",
            "Removing obsolete dictionary files:\n",
            "Created symlink /etc/systemd/system/multi-user.target.wants/postgresql.service → /lib/systemd/system/postgresql.service.\n",
            "invoke-rc.d: could not determine current runlevel\n",
            "invoke-rc.d: policy-rc.d denied execution of start.\n",
            "Setting up postgresql-client-10 (10.19-0ubuntu0.18.04.1) ...\n",
            "update-alternatives: using /usr/share/postgresql/10/man/man1/psql.1.gz to provide /usr/share/man/man1/psql.1.gz (psql.1.gz) in auto mode\n",
            "Setting up postgresql-10 (10.19-0ubuntu0.18.04.1) ...\n",
            "debconf: unable to initialize frontend: Dialog\n",
            "debconf: (No usable dialog-like program is installed, so the dialog based frontend cannot be used. at /usr/share/perl5/Debconf/FrontEnd/Dialog.pm line 76.)\n",
            "debconf: falling back to frontend: Readline\n",
            "Creating new PostgreSQL cluster 10/main ...\n",
            "/usr/lib/postgresql/10/bin/initdb -D /var/lib/postgresql/10/main --auth-local peer --auth-host md5\n",
            "The files belonging to this database system will be owned by user \"postgres\".\n",
            "This user must also own the server process.\n",
            "\n",
            "The database cluster will be initialized with locale \"en_US.UTF-8\".\n",
            "The default database encoding has accordingly been set to \"UTF8\".\n",
            "The default text search configuration will be set to \"english\".\n",
            "\n",
            "Data page checksums are disabled.\n",
            "\n",
            "fixing permissions on existing directory /var/lib/postgresql/10/main ... ok\n",
            "creating subdirectories ... ok\n",
            "selecting default max_connections ... 100\n",
            "selecting default shared_buffers ... 128MB\n",
            "selecting default timezone ... Etc/UTC\n",
            "selecting dynamic shared memory implementation ... posix\n",
            "creating configuration files ... ok\n",
            "running bootstrap script ... ok\n",
            "performing post-bootstrap initialization ... ok\n",
            "syncing data to disk ... ok\n",
            "\n",
            "Success. You can now start the database server using:\n",
            "\n",
            "    /usr/lib/postgresql/10/bin/pg_ctl -D /var/lib/postgresql/10/main -l logfile start\n",
            "\n",
            "Ver Cluster Port Status Owner    Data directory              Log file\n",
            "\u001b[31m10  main    5432 down   postgres /var/lib/postgresql/10/main /var/log/postgresql/postgresql-10-main.log\u001b[0m\n",
            "update-alternatives: using /usr/share/postgresql/10/man/man1/postmaster.1.gz to provide /usr/share/man/man1/postmaster.1.gz (postmaster.1.gz) in auto mode\n",
            "invoke-rc.d: could not determine current runlevel\n",
            "invoke-rc.d: policy-rc.d denied execution of start.\n",
            "Setting up postgresql (10+190ubuntu0.1) ...\n",
            "Processing triggers for man-db (2.8.3-2ubuntu0.1) ...\n",
            "Processing triggers for systemd (237-3ubuntu10.52) ...\n",
            " * Starting PostgreSQL 10 database server\n",
            "   ...done.\n",
            "ALTER ROLE\n",
            "NOTICE:  database \"tfio_demo\" does not exist, skipping\n",
            "DROP DATABASE\n",
            "CREATE DATABASE\n"
          ]
        }
      ]
    },
    {
      "cell_type": "code",
      "metadata": {
        "colab": {
          "base_uri": "https://localhost:8080/"
        },
        "id": "KBo2d8i6d_cs",
        "outputId": "d6c1feb9-b138-46c8-fba9-6a810ef87b33"
      },
      "source": [
        "# Setup a database with name `tfio_demo` to be used\n",
        "!sudo -u postgres psql -U postgres -c 'CREATE DATABASE micro_project;'"
      ],
      "execution_count": 10,
      "outputs": [
        {
          "output_type": "stream",
          "name": "stdout",
          "text": [
            "CREATE DATABASE\n"
          ]
        }
      ]
    },
    {
      "cell_type": "markdown",
      "metadata": {
        "id": "JFahc2PUEJ5m"
      },
      "source": [
        "# Create connection to database"
      ]
    },
    {
      "cell_type": "code",
      "metadata": {
        "colab": {
          "base_uri": "https://localhost:8080/"
        },
        "id": "z41nvWvTbtb-",
        "outputId": "09df6f66-a975-4586-8e3c-aab748f58a4b"
      },
      "source": [
        "conn = pg.connect(\n",
        "    host='localhost', database='micro_project',\n",
        "    user='postgres', password='postgres')\n",
        "cursor = conn.cursor()\n",
        "cursor.execute(\"select relname from pg_class where relkind='r' and relname !~ '^(pg_|sql_)';\")\n",
        "print(cursor.fetchall())\n",
        "# for table in cursor.fetchall():\n",
        "#   print(table)\n",
        "cursor.close()\n",
        "conn.close()"
      ],
      "execution_count": 11,
      "outputs": [
        {
          "output_type": "stream",
          "name": "stdout",
          "text": [
            "[]\n"
          ]
        }
      ]
    },
    {
      "cell_type": "markdown",
      "metadata": {
        "id": "E1iA-_l2ESnp"
      },
      "source": [
        "# Create table in the Postgres database"
      ]
    },
    {
      "cell_type": "code",
      "metadata": {
        "id": "JPTH9PYxmH0t"
      },
      "source": [
        "conn = pg.connect(\n",
        "    host='localhost', database='micro_project',\n",
        "    user='postgres', password='postgres')\n",
        "cursor = conn.cursor()\n",
        "cursor.execute('CREATE TABLE lab_data (service_week varchar, service_year varchar, service_yearmonth varchar, betos_cd varchar, betos_desc varchar, pos_cd varchar, pos_desc varchar, spec_cd varchar, spec_desc varchar, paid_amount varchar, utilization varchar);')  \n",
        "conn.commit()\n",
        "conn.close()"
      ],
      "execution_count": 65,
      "outputs": []
    },
    {
      "cell_type": "code",
      "metadata": {
        "id": "FftraPge913q"
      },
      "source": [
        "conn = pg.connect(\n",
        "    host='localhost', database='micro_project',\n",
        "    user='postgres', password='postgres')\n",
        "cursor = conn.cursor()\n",
        "cursor.execute('CREATE TABLE lab_data_2 (service_week varchar, service_year varchar, service_yearmonth varchar, spec_desc varchar, paid_amount varchar, utilization varchar);')  \n",
        "conn.commit()\n",
        "conn.close()"
      ],
      "execution_count": 87,
      "outputs": []
    },
    {
      "cell_type": "markdown",
      "metadata": {
        "id": "933NqQX_EceU"
      },
      "source": [
        "# Print table names created in the database"
      ]
    },
    {
      "cell_type": "code",
      "metadata": {
        "colab": {
          "base_uri": "https://localhost:8080/"
        },
        "id": "ELRD8W_lnWfU",
        "outputId": "e018997d-a53a-46f7-a6b6-8983f06282d6"
      },
      "source": [
        "conn = pg.connect(\n",
        "    host='localhost', database='micro_project',\n",
        "    user='postgres', password='postgres')\n",
        "cursor = conn.cursor()\n",
        "cursor.execute(\"select relname from pg_class where relkind='r' and relname !~ '^(pg_|sql_)';\")\n",
        "print(cursor.fetchall())\n",
        "# for table in cursor.fetchall():\n",
        "#   print(table)\n",
        "cursor.close()\n",
        "conn.close()"
      ],
      "execution_count": 101,
      "outputs": [
        {
          "output_type": "stream",
          "name": "stdout",
          "text": [
            "[('test',), ('test_table',), ('test_table_2',), ('lab_data',), ('lab_data_2',)]\n"
          ]
        }
      ]
    },
    {
      "cell_type": "code",
      "metadata": {
        "colab": {
          "base_uri": "https://localhost:8080/"
        },
        "id": "f5XNNqgZ_uHp",
        "outputId": "5f25d10b-ad36-4e7d-c08b-8304243a8ef4"
      },
      "source": [
        "conn = pg.connect(\n",
        "    host='localhost', database='micro_project',\n",
        "    user='postgres', password='postgres')\n",
        "cursor = conn.cursor()\n",
        "cursor.execute(\"select relname from pg_class where relkind='r' and relname !~ '^(pg_|sql_)';\")\n",
        "table_names=cursor.fetchall()\n",
        "print(cursor.fetchall())\n",
        "# for table in cursor.fetchall():\n",
        "#   print(table)\n",
        "cursor.close()\n",
        "conn.close()"
      ],
      "execution_count": 102,
      "outputs": [
        {
          "output_type": "stream",
          "name": "stdout",
          "text": [
            "[]\n"
          ]
        }
      ]
    },
    {
      "cell_type": "code",
      "metadata": {
        "colab": {
          "base_uri": "https://localhost:8080/"
        },
        "id": "PBJhrtVrAQL1",
        "outputId": "d0d985ae-9905-4884-acd4-9c04da5a4a0d"
      },
      "source": [
        "[table_names[i][0] for i in range(len(table_names))]"
      ],
      "execution_count": 110,
      "outputs": [
        {
          "output_type": "execute_result",
          "data": {
            "text/plain": [
              "['test', 'test_table', 'test_table_2', 'lab_data', 'lab_data_2']"
            ]
          },
          "metadata": {},
          "execution_count": 110
        }
      ]
    },
    {
      "cell_type": "code",
      "metadata": {
        "id": "q8ZRfK8gAhcM"
      },
      "source": [
        "def read_psql(table):\n",
        "  queries=''' SELECT * FROM `'''+table\n",
        "  df = pd.io.gbq.read_gbq(queries, project_id=project_id, dialect='standard')\n",
        "  return df"
      ],
      "execution_count": 111,
      "outputs": []
    },
    {
      "cell_type": "markdown",
      "metadata": {
        "id": "uMLkVafSuuCx"
      },
      "source": [
        "# Read Data from Google sheets and inject it into Postgres table"
      ]
    },
    {
      "cell_type": "code",
      "metadata": {
        "id": "iSz_G9uauyYL"
      },
      "source": [
        "# DESC: Get Authentification for GoogleSheet\n",
        "#   @param: None\n",
        "#   @post:\n",
        "#       returns Dataframe of company_name, cleaned and company_id\n",
        "def get_client():\n",
        "  scope = ['https://spreadsheets.google.com/feeds','https://www.googleapis.com/auth/drive']\n",
        "  client = storage.Client()\n",
        "  blobs=[]\n",
        "  for blob in client.list_blobs('euro_indicators', prefix='creds'):\n",
        "      # print(str(blob.name))\n",
        "    blobs.append(blob)\n",
        "    print(blob)\n",
        "\n",
        "  blobs[1].download_to_filename('/tmp/creds.json')\n",
        "  creds = ServiceAccountCredentials.from_json_keyfile_name('/tmp/creds.json',scope)\n",
        "\n",
        "  client = gspread.authorize(creds)\n",
        "\n",
        "  return client\n",
        "\n",
        "def get_users_informations():\n",
        " \n",
        "  client = get_client()\n",
        "\n",
        "  all_users = client.open(\"david_test_sheet\").worksheet('test')\n",
        "  users = pd.DataFrame(all_users.get_all_values())\n",
        "  users.columns=pd.Series(users.loc[0])\n",
        "  users = users.drop([0])\n",
        "  return users"
      ],
      "execution_count": 156,
      "outputs": []
    },
    {
      "cell_type": "code",
      "metadata": {
        "colab": {
          "base_uri": "https://localhost:8080/"
        },
        "id": "8fbSno9n0tOY",
        "outputId": "e61a95ac-c138-40b0-de4c-4611a00c93af"
      },
      "source": [
        "os.environ[\"GCLOUD_PROJECT\"]='twittersheet-275317'\n",
        "df=get_users_informations()"
      ],
      "execution_count": 157,
      "outputs": [
        {
          "output_type": "stream",
          "name": "stdout",
          "text": [
            "<Blob: euro_indicators, creds/, 1625172096504248>\n",
            "<Blob: euro_indicators, creds/creds.json, 1637637102972772>\n"
          ]
        }
      ]
    },
    {
      "cell_type": "code",
      "metadata": {
        "colab": {
          "base_uri": "https://localhost:8080/",
          "height": 340
        },
        "id": "xm54y_D7x2Z0",
        "outputId": "258532cc-11dc-473a-d8f7-ef4eafc0e2e9"
      },
      "source": [
        "df.head()"
      ],
      "execution_count": 158,
      "outputs": [
        {
          "output_type": "execute_result",
          "data": {
            "text/html": [
              "<div>\n",
              "<style scoped>\n",
              "    .dataframe tbody tr th:only-of-type {\n",
              "        vertical-align: middle;\n",
              "    }\n",
              "\n",
              "    .dataframe tbody tr th {\n",
              "        vertical-align: top;\n",
              "    }\n",
              "\n",
              "    .dataframe thead th {\n",
              "        text-align: right;\n",
              "    }\n",
              "</style>\n",
              "<table border=\"1\" class=\"dataframe\">\n",
              "  <thead>\n",
              "    <tr style=\"text-align: right;\">\n",
              "      <th></th>\n",
              "      <th>service_week</th>\n",
              "      <th>service_year</th>\n",
              "      <th>service_yearmonth</th>\n",
              "      <th>service_date</th>\n",
              "      <th>betos_cd</th>\n",
              "      <th>betos_desc</th>\n",
              "      <th>pos_cd</th>\n",
              "      <th>pos_desc</th>\n",
              "      <th>spec_cd</th>\n",
              "      <th>spec_desc</th>\n",
              "      <th>paid_amount</th>\n",
              "      <th>utilization</th>\n",
              "      <th></th>\n",
              "      <th>price</th>\n",
              "    </tr>\n",
              "  </thead>\n",
              "  <tbody>\n",
              "    <tr>\n",
              "      <th>1</th>\n",
              "      <td>2017-01</td>\n",
              "      <td>2017</td>\n",
              "      <td>2017-01-01</td>\n",
              "      <td>Jan 2, 2017</td>\n",
              "      <td>T1A</td>\n",
              "      <td>Lab tests - routine venipuncture (non Medicare...</td>\n",
              "      <td>11</td>\n",
              "      <td>Office</td>\n",
              "      <td>6</td>\n",
              "      <td>Physician/Cardiovascular Disease (Cardiology)</td>\n",
              "      <td>$2.94</td>\n",
              "      <td>1</td>\n",
              "      <td></td>\n",
              "      <td></td>\n",
              "    </tr>\n",
              "    <tr>\n",
              "      <th>2</th>\n",
              "      <td>2017-01</td>\n",
              "      <td>2017</td>\n",
              "      <td>2017-01-01</td>\n",
              "      <td>Jan 2, 2017</td>\n",
              "      <td>T1G</td>\n",
              "      <td>Lab tests - other (Medicare fee schedule)</td>\n",
              "      <td>22</td>\n",
              "      <td>On Campus- Outpatient Hospital</td>\n",
              "      <td>22</td>\n",
              "      <td>Physician/Pathology</td>\n",
              "      <td>$0.00</td>\n",
              "      <td>1</td>\n",
              "      <td></td>\n",
              "      <td></td>\n",
              "    </tr>\n",
              "    <tr>\n",
              "      <th>3</th>\n",
              "      <td>2017-01</td>\n",
              "      <td>2017</td>\n",
              "      <td>2017-01-01</td>\n",
              "      <td>Jan 2, 2017</td>\n",
              "      <td>T1H</td>\n",
              "      <td>Lab tests - other (non-Medicare fee schedule)</td>\n",
              "      <td>81</td>\n",
              "      <td>Independent Laboratory</td>\n",
              "      <td>69</td>\n",
              "      <td>Clinical Laboratory</td>\n",
              "      <td>$19.18</td>\n",
              "      <td>1</td>\n",
              "      <td></td>\n",
              "      <td></td>\n",
              "    </tr>\n",
              "    <tr>\n",
              "      <th>4</th>\n",
              "      <td>2017-01</td>\n",
              "      <td>2017</td>\n",
              "      <td>2017-01-01</td>\n",
              "      <td>Jan 3, 2017</td>\n",
              "      <td>T1A</td>\n",
              "      <td>Lab tests - routine venipuncture (non Medicare...</td>\n",
              "      <td>11</td>\n",
              "      <td>Office</td>\n",
              "      <td>10</td>\n",
              "      <td>Physician/Gastroenterology</td>\n",
              "      <td>$5.88</td>\n",
              "      <td>2</td>\n",
              "      <td></td>\n",
              "      <td></td>\n",
              "    </tr>\n",
              "    <tr>\n",
              "      <th>5</th>\n",
              "      <td>2017-01</td>\n",
              "      <td>2017</td>\n",
              "      <td>2017-01-01</td>\n",
              "      <td>Jan 3, 2017</td>\n",
              "      <td>T1A</td>\n",
              "      <td>Lab tests - routine venipuncture (non Medicare...</td>\n",
              "      <td>11</td>\n",
              "      <td>Office</td>\n",
              "      <td>11</td>\n",
              "      <td>Physician/Internal Medicine</td>\n",
              "      <td>$5.88</td>\n",
              "      <td>2</td>\n",
              "      <td></td>\n",
              "      <td>2.94</td>\n",
              "    </tr>\n",
              "  </tbody>\n",
              "</table>\n",
              "</div>"
            ],
            "text/plain": [
              "0 service_week service_year service_yearmonth  ... utilization   price\n",
              "1      2017-01         2017        2017-01-01  ...           1        \n",
              "2      2017-01         2017        2017-01-01  ...           1        \n",
              "3      2017-01         2017        2017-01-01  ...           1        \n",
              "4      2017-01         2017        2017-01-01  ...           2        \n",
              "5      2017-01         2017        2017-01-01  ...           2    2.94\n",
              "\n",
              "[5 rows x 14 columns]"
            ]
          },
          "metadata": {},
          "execution_count": 158
        }
      ]
    },
    {
      "cell_type": "code",
      "metadata": {
        "colab": {
          "base_uri": "https://localhost:8080/"
        },
        "id": "3yoAXIE45qGA",
        "outputId": "839d2f8b-878d-4522-8f25-a2ecfcbb3736"
      },
      "source": [
        "type(df.service_week[2])"
      ],
      "execution_count": 59,
      "outputs": [
        {
          "output_type": "execute_result",
          "data": {
            "text/plain": [
              "str"
            ]
          },
          "metadata": {},
          "execution_count": 59
        }
      ]
    },
    {
      "cell_type": "code",
      "metadata": {
        "colab": {
          "base_uri": "https://localhost:8080/"
        },
        "id": "RSTzx_-w418O",
        "outputId": "94431402-9d3f-4348-f8c1-e5e40a7964f0"
      },
      "source": [
        "df.columns"
      ],
      "execution_count": 53,
      "outputs": [
        {
          "output_type": "execute_result",
          "data": {
            "text/plain": [
              "Index(['service_week', 'service_year', 'service_yearmonth', 'service_date',\n",
              "       'betos_cd', 'betos_desc', 'pos_cd', 'pos_desc', 'spec_cd', 'spec_desc',\n",
              "       'paid_amount', 'utilization', '', 'price'],\n",
              "      dtype='object', name=0)"
            ]
          },
          "metadata": {},
          "execution_count": 53
        }
      ]
    },
    {
      "cell_type": "code",
      "metadata": {
        "colab": {
          "base_uri": "https://localhost:8080/"
        },
        "id": "11Sqz8FH5R_Y",
        "outputId": "6a946cd5-c3c7-42b2-a5dc-354e7120dd5c"
      },
      "source": [
        "df1=df[['service_week', 'service_year', 'service_yearmonth', 'spec_desc','paid_amount', 'utilization']]\n",
        "#'service_week varchar, service_year varchar, service_yearmonth varchar, spec_desc varchar, paid_amount varchar, utilization varchar'\n",
        "cols=df1.columns.to_list()\n",
        "for col in cols:\n",
        "  df1[str(col)]=df1[str(col)].map(lambda x:str(x))\n",
        "  df1=df1.dropna()"
      ],
      "execution_count": 91,
      "outputs": [
        {
          "output_type": "stream",
          "name": "stderr",
          "text": [
            "/usr/local/lib/python3.7/dist-packages/ipykernel_launcher.py:5: SettingWithCopyWarning: \n",
            "A value is trying to be set on a copy of a slice from a DataFrame.\n",
            "Try using .loc[row_indexer,col_indexer] = value instead\n",
            "\n",
            "See the caveats in the documentation: https://pandas.pydata.org/pandas-docs/stable/user_guide/indexing.html#returning-a-view-versus-a-copy\n",
            "  \"\"\"\n"
          ]
        }
      ]
    },
    {
      "cell_type": "code",
      "metadata": {
        "id": "G0vCUK4T4dZj"
      },
      "source": [
        "conn = pg.connect(\n",
        "    host='localhost', database='micro_project',\n",
        "    user='postgres', password='postgres')\n",
        "cursor = conn.cursor()\n",
        "output = io.StringIO()\n",
        "df1.to_csv(output, sep='\\t', header=False, index=False)\n",
        "output.seek(0)\n",
        "contents = output.getvalue()\n",
        "\n",
        "cursor.copy_from(output, 'lab_data_2', null=\"\") # null values become ''\n",
        "\n",
        "conn.commit()"
      ],
      "execution_count": 93,
      "outputs": []
    },
    {
      "cell_type": "markdown",
      "metadata": {
        "id": "xcfMH1gj_Cc1"
      },
      "source": [
        "# pull data from database"
      ]
    },
    {
      "cell_type": "code",
      "metadata": {
        "id": "FM3Lz_DR9Xac"
      },
      "source": [
        "# A function that takes in a PostgreSQL query and outputs a pandas database \n",
        "def create_pandas_table(sql_query, database = conn):\n",
        "    table = pd.read_sql_query(sql_query, database)\n",
        "    return table\n",
        "# Store the data as a variable\n",
        "test = create_pandas_table(\"SELECT * FROM lab_data_2\")\n",
        "test\n",
        "\n",
        "# Close the cursor and connection to so the server can allocate\n",
        "# bandwidth to other requests\n",
        "# cur.close()\n",
        "conn.close()"
      ],
      "execution_count": 97,
      "outputs": []
    },
    {
      "cell_type": "code",
      "metadata": {
        "id": "UfA1pOQC_Jj8"
      },
      "source": [
        "conn = pg.connect(\n",
        "    host='localhost', database='micro_project',\n",
        "    user='postgres', password='postgres')\n",
        "cursor = conn.cursor()\n",
        "database = conn\n",
        "# sql_query=\"SELECT * FROM lab_data_2\"\n",
        "table_name='lab_data_2'\n",
        "sql_query='''SELECT * FROM '''+table_name\n",
        "df = pd.read_sql_query(sql_query, database)\n",
        "conn.close()"
      ],
      "execution_count": 129,
      "outputs": []
    },
    {
      "cell_type": "code",
      "metadata": {
        "id": "-QGW8JoE_Y-7"
      },
      "source": [
        "# A function that takes in a PostgreSQL query and outputs a pandas database \n",
        "def create_pandas_table(table_name):\n",
        "  conn = pg.connect(\n",
        "    host='localhost', database='micro_project',\n",
        "    user='postgres', password='postgres')\n",
        "  cursor = conn.cursor()\n",
        "  database = conn\n",
        "  # sql_query=\"SELECT * FROM lab_data_2\"\n",
        "  sql_query='''SELECT * FROM '''+table_name\n",
        "  df = pd.read_sql_query(sql_query, database)\n",
        "  conn.close()\n",
        "  return df"
      ],
      "execution_count": 132,
      "outputs": []
    },
    {
      "cell_type": "markdown",
      "metadata": {
        "id": "b0Mg1qgbUjBz"
      },
      "source": [
        "# Loop each tables and print infos"
      ]
    },
    {
      "cell_type": "code",
      "metadata": {
        "colab": {
          "base_uri": "https://localhost:8080/"
        },
        "id": "z1N9DWisDbQL",
        "outputId": "131ffeed-4281-48c6-d237-2a0a64f26c7d"
      },
      "source": [
        "# table_name='lab_data_2'\n",
        "table_names=['test', 'test_table', 'test_table_2', 'lab_data', 'lab_data_2']\n",
        "for table_name in table_names:\n",
        "  print(\"--- This table: {} ---\".format(table_name))\n",
        "  test=create_pandas_table(table_name)\n",
        "  print(\"Total of columns: {}, total of rows: {}\".format(test.shape[1],test.shape[0]))\n",
        "  print(\"columns names: {}\".format(test.columns.to_list()))\n",
        "  names=test.columns.to_list()\n",
        "  for name in names:\n",
        "    print(\"columns data type: {}\".format(test['service_week'].dtype))"
      ],
      "execution_count": 145,
      "outputs": [
        {
          "output_type": "stream",
          "name": "stdout",
          "text": [
            "--- This table: test ---\n",
            "Total of columns: 0, total of rows: 0\n",
            "columns names: []\n",
            "--- This table: test_table ---\n",
            "Total of columns: 3, total of rows: 0\n",
            "columns names: ['service_week', 'service_year', 'service_yearmonth']\n",
            "columns data type: object\n",
            "columns data type: object\n",
            "columns data type: object\n",
            "--- This table: test_table_2 ---\n",
            "Total of columns: 3, total of rows: 33\n",
            "columns names: ['service_week', 'service_year', 'service_yearmonth']\n",
            "columns data type: object\n",
            "columns data type: object\n",
            "columns data type: object\n",
            "--- This table: lab_data ---\n",
            "Total of columns: 11, total of rows: 0\n",
            "columns names: ['service_week', 'service_year', 'service_yearmonth', 'betos_cd', 'betos_desc', 'pos_cd', 'pos_desc', 'spec_cd', 'spec_desc', 'paid_amount', 'utilization']\n",
            "columns data type: object\n",
            "columns data type: object\n",
            "columns data type: object\n",
            "columns data type: object\n",
            "columns data type: object\n",
            "columns data type: object\n",
            "columns data type: object\n",
            "columns data type: object\n",
            "columns data type: object\n",
            "columns data type: object\n",
            "columns data type: object\n",
            "--- This table: lab_data_2 ---\n",
            "Total of columns: 6, total of rows: 33\n",
            "columns names: ['service_week', 'service_year', 'service_yearmonth', 'spec_desc', 'paid_amount', 'utilization']\n",
            "columns data type: object\n",
            "columns data type: object\n",
            "columns data type: object\n",
            "columns data type: object\n",
            "columns data type: object\n",
            "columns data type: object\n"
          ]
        }
      ]
    },
    {
      "cell_type": "markdown",
      "metadata": {
        "id": "2iI6rErFNPVS"
      },
      "source": [
        "# Describe table before Cleaning"
      ]
    },
    {
      "cell_type": "code",
      "metadata": {
        "colab": {
          "base_uri": "https://localhost:8080/",
          "height": 173
        },
        "id": "0U_ykDw6MBfj",
        "outputId": "2584e301-8212-4094-ad4f-24c5aa03ff28"
      },
      "source": [
        "table_name='lab_data_2'\n",
        "test=create_pandas_table(table_name)\n",
        "test.describe()"
      ],
      "execution_count": 146,
      "outputs": [
        {
          "output_type": "execute_result",
          "data": {
            "text/html": [
              "<div>\n",
              "<style scoped>\n",
              "    .dataframe tbody tr th:only-of-type {\n",
              "        vertical-align: middle;\n",
              "    }\n",
              "\n",
              "    .dataframe tbody tr th {\n",
              "        vertical-align: top;\n",
              "    }\n",
              "\n",
              "    .dataframe thead th {\n",
              "        text-align: right;\n",
              "    }\n",
              "</style>\n",
              "<table border=\"1\" class=\"dataframe\">\n",
              "  <thead>\n",
              "    <tr style=\"text-align: right;\">\n",
              "      <th></th>\n",
              "      <th>service_week</th>\n",
              "      <th>service_year</th>\n",
              "      <th>service_yearmonth</th>\n",
              "      <th>spec_desc</th>\n",
              "      <th>paid_amount</th>\n",
              "      <th>utilization</th>\n",
              "    </tr>\n",
              "  </thead>\n",
              "  <tbody>\n",
              "    <tr>\n",
              "      <th>count</th>\n",
              "      <td>33</td>\n",
              "      <td>33</td>\n",
              "      <td>33</td>\n",
              "      <td>33</td>\n",
              "      <td>33</td>\n",
              "      <td>33</td>\n",
              "    </tr>\n",
              "    <tr>\n",
              "      <th>unique</th>\n",
              "      <td>1</td>\n",
              "      <td>1</td>\n",
              "      <td>1</td>\n",
              "      <td>13</td>\n",
              "      <td>26</td>\n",
              "      <td>6</td>\n",
              "    </tr>\n",
              "    <tr>\n",
              "      <th>top</th>\n",
              "      <td>2017-01</td>\n",
              "      <td>2017</td>\n",
              "      <td>2017-01-01</td>\n",
              "      <td>Physician/Infectious Disease</td>\n",
              "      <td>$2.94</td>\n",
              "      <td>1</td>\n",
              "    </tr>\n",
              "    <tr>\n",
              "      <th>freq</th>\n",
              "      <td>33</td>\n",
              "      <td>33</td>\n",
              "      <td>33</td>\n",
              "      <td>5</td>\n",
              "      <td>3</td>\n",
              "      <td>16</td>\n",
              "    </tr>\n",
              "  </tbody>\n",
              "</table>\n",
              "</div>"
            ],
            "text/plain": [
              "       service_week service_year  ... paid_amount utilization\n",
              "count            33           33  ...          33          33\n",
              "unique            1            1  ...          26           6\n",
              "top         2017-01         2017  ...       $2.94           1\n",
              "freq             33           33  ...           3          16\n",
              "\n",
              "[4 rows x 6 columns]"
            ]
          },
          "metadata": {},
          "execution_count": 146
        }
      ]
    },
    {
      "cell_type": "markdown",
      "metadata": {
        "id": "rtNbqz3sQrT3"
      },
      "source": [
        "# After Cleaning "
      ]
    },
    {
      "cell_type": "code",
      "metadata": {
        "id": "fuPuOvqxQqYA"
      },
      "source": [
        "def point_str_to_float(a_str):\n",
        "    if type(a_str)==float:\n",
        "      return a_str\n",
        "    elif type(a_str)==int:\n",
        "      return float(a_str)\n",
        "    elif type(a_str)==np.nan:\n",
        "      return 0\n",
        "    elif a_str==\"\":\n",
        "      return 0\n",
        "    else:\n",
        "      a_num=re.findall(r\"[-+]?\\d*\\.\\d+|\\d+\", a_str)\n",
        "      try:\n",
        "        a_num=float(a_num[0])\n",
        "        return a_num\n",
        "      except:\n",
        "        return 0"
      ],
      "execution_count": 150,
      "outputs": []
    },
    {
      "cell_type": "code",
      "metadata": {
        "id": "k9knKMmIQ5I7"
      },
      "source": [
        "test.paid_amount=test.paid_amount.map(lambda x: point_str_to_float(x))\n",
        "test.spec_desc=test.spec_desc.map(lambda x: point_str_to_float(x))"
      ],
      "execution_count": 153,
      "outputs": []
    },
    {
      "cell_type": "code",
      "metadata": {
        "colab": {
          "base_uri": "https://localhost:8080/",
          "height": 297
        },
        "id": "Wj0ZAAUvRE3I",
        "outputId": "9bac34b1-0412-488b-81b2-ad1485bdda9b"
      },
      "source": [
        "test.describe()"
      ],
      "execution_count": 154,
      "outputs": [
        {
          "output_type": "execute_result",
          "data": {
            "text/html": [
              "<div>\n",
              "<style scoped>\n",
              "    .dataframe tbody tr th:only-of-type {\n",
              "        vertical-align: middle;\n",
              "    }\n",
              "\n",
              "    .dataframe tbody tr th {\n",
              "        vertical-align: top;\n",
              "    }\n",
              "\n",
              "    .dataframe thead th {\n",
              "        text-align: right;\n",
              "    }\n",
              "</style>\n",
              "<table border=\"1\" class=\"dataframe\">\n",
              "  <thead>\n",
              "    <tr style=\"text-align: right;\">\n",
              "      <th></th>\n",
              "      <th>spec_desc</th>\n",
              "      <th>paid_amount</th>\n",
              "    </tr>\n",
              "  </thead>\n",
              "  <tbody>\n",
              "    <tr>\n",
              "      <th>count</th>\n",
              "      <td>33.0</td>\n",
              "      <td>33.000000</td>\n",
              "    </tr>\n",
              "    <tr>\n",
              "      <th>mean</th>\n",
              "      <td>0.0</td>\n",
              "      <td>39.068182</td>\n",
              "    </tr>\n",
              "    <tr>\n",
              "      <th>std</th>\n",
              "      <td>0.0</td>\n",
              "      <td>98.198734</td>\n",
              "    </tr>\n",
              "    <tr>\n",
              "      <th>min</th>\n",
              "      <td>0.0</td>\n",
              "      <td>0.000000</td>\n",
              "    </tr>\n",
              "    <tr>\n",
              "      <th>25%</th>\n",
              "      <td>0.0</td>\n",
              "      <td>4.260000</td>\n",
              "    </tr>\n",
              "    <tr>\n",
              "      <th>50%</th>\n",
              "      <td>0.0</td>\n",
              "      <td>11.470000</td>\n",
              "    </tr>\n",
              "    <tr>\n",
              "      <th>75%</th>\n",
              "      <td>0.0</td>\n",
              "      <td>24.730000</td>\n",
              "    </tr>\n",
              "    <tr>\n",
              "      <th>max</th>\n",
              "      <td>0.0</td>\n",
              "      <td>558.440000</td>\n",
              "    </tr>\n",
              "  </tbody>\n",
              "</table>\n",
              "</div>"
            ],
            "text/plain": [
              "       spec_desc  paid_amount\n",
              "count       33.0    33.000000\n",
              "mean         0.0    39.068182\n",
              "std          0.0    98.198734\n",
              "min          0.0     0.000000\n",
              "25%          0.0     4.260000\n",
              "50%          0.0    11.470000\n",
              "75%          0.0    24.730000\n",
              "max          0.0   558.440000"
            ]
          },
          "metadata": {},
          "execution_count": 154
        }
      ]
    },
    {
      "cell_type": "code",
      "metadata": {
        "id": "BrO7rVU5T6IV"
      },
      "source": [
        "import numpy as np\n",
        "import seaborn as sns\n",
        "import matplotlib.pyplot as plt\n",
        "plt.style.use('seaborn')"
      ],
      "execution_count": 160,
      "outputs": []
    },
    {
      "cell_type": "code",
      "metadata": {
        "colab": {
          "base_uri": "https://localhost:8080/",
          "height": 444
        },
        "id": "QChYQL5NTuLb",
        "outputId": "f8f6fd44-ced0-49bd-8c83-d4977b5d2be4"
      },
      "source": [
        "# histogram and kernel density estimation function of the variable height\n",
        "ax = sns.distplot(test.paid_amount, hist=True, hist_kws={\"edgecolor\": 'w', \"linewidth\": 3}, kde_kws={\"linewidth\": 3})\n",
        "\n",
        "# notation indicating a possible outlier\n",
        "ax.annotate('Possible outlier', xy=(188,0.0030), xytext=(189,0.0070), fontsize=12,\n",
        "            arrowprops=dict(arrowstyle='->', ec='grey', lw=2), bbox = dict(boxstyle=\"round\", fc=\"0.8\"))\n",
        "\n",
        "# ticks \n",
        "plt.xticks(fontsize=14)\n",
        "plt.yticks(fontsize=14)\n",
        "\n",
        "# labels and title\n",
        "plt.xlabel('paid_amount', fontsize=14)\n",
        "plt.ylabel('frequency', fontsize=14)\n",
        "plt.title('Distribution of payment', fontsize=20);"
      ],
      "execution_count": 164,
      "outputs": [
        {
          "output_type": "stream",
          "name": "stderr",
          "text": [
            "/usr/local/lib/python3.7/dist-packages/seaborn/distributions.py:2619: FutureWarning: `distplot` is a deprecated function and will be removed in a future version. Please adapt your code to use either `displot` (a figure-level function with similar flexibility) or `histplot` (an axes-level function for histograms).\n",
            "  warnings.warn(msg, FutureWarning)\n"
          ]
        },
        {
          "output_type": "display_data",
          "data": {
            "image/png": "[encoded data removed]",
            "text/plain": [
              "<Figure size 576x396 with 1 Axes>"
            ]
          },
          "metadata": {}
        }
      ]
    }
  ]
}